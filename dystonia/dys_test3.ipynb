{
 "cells": [
  {
   "cell_type": "code",
   "execution_count": null,
   "metadata": {},
   "outputs": [],
   "source": [
    "# 所有数据文件\n",
    "file_name_list = [\"subject_dystonia_hcc_area_lh.dat\",\n",
    "                  \"subject_dystonia_hcc_area_rh.dat\",\n",
    "                  \"subject_dystonia_hcc_curvind_lh.dat\",\n",
    "                  \"subject_dystonia_hcc_curvind_rh.dat\",\n",
    "                  \"subject_dystonia_hcc_foldind_lh.dat\",\n",
    "                  \"subject_dystonia_hcc_foldind_rh.dat\",\n",
    "                  \"subject_dystonia_hcc_gauscurv_lh.dat\",\n",
    "                  \"subject_dystonia_hcc_gauscurv_rh.dat\",\n",
    "                  \"subject_dystonia_hcc_meancurv_lh.dat\",\n",
    "                  \"subject_dystonia_hcc_meancurv_rh.dat\",\n",
    "                  \"subject_dystonia_hcc_Subcortical_volume_stats.txt\",\n",
    "                  \"subject_dystonia_hcc_thickness_lh.dat\",\n",
    "                  \"subject_dystonia_hcc_thickness_rh.dat\",\n",
    "                  \"subject_dystonia_hcc_thicknessstd_lh.dat\",\n",
    "                  \"subject_dystonia_hcc_thicknessstd_rh.dat\",\n",
    "                  \"subject_dystonia_hcc_volume_lh.dat\",\n",
    "                  \"subject_dystonia_hcc_volume_rh.dat\"]"
   ]
  },
  {
   "cell_type": "code",
   "execution_count": null,
   "metadata": {},
   "outputs": [],
   "source": [
    "from lazypredict.Supervised import LazyClassifier\n",
    "\n",
    "import pandas as pd\n",
    "\n"
   ]
  }
 ],
 "metadata": {
  "kernelspec": {
   "display_name": "pt38",
   "language": "python",
   "name": "python3"
  },
  "language_info": {
   "codemirror_mode": {
    "name": "ipython",
    "version": 3
   },
   "file_extension": ".py",
   "mimetype": "text/x-python",
   "name": "python",
   "nbconvert_exporter": "python",
   "pygments_lexer": "ipython3",
   "version": "3.8.17"
  },
  "orig_nbformat": 4
 },
 "nbformat": 4,
 "nbformat_minor": 2
}
