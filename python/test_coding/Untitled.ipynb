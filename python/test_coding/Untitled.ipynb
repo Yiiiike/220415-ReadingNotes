{
 "cells": [
  {
   "cell_type": "code",
   "execution_count": 2,
   "id": "04908905",
   "metadata": {},
   "outputs": [
    {
     "name": "stdout",
     "output_type": "stream",
     "text": [
      "Tom\n",
      "False\n"
     ]
    }
   ],
   "source": [
    "str = 'NiuNiu NiuMei NiuNeng Niukele'\n",
    "name = input()\n",
    "\n",
    "print(\"True\" if name in str else \"False\")"
   ]
  },
  {
   "cell_type": "code",
   "execution_count": null,
   "id": "7e9162f9",
   "metadata": {},
   "outputs": [],
   "source": []
  }
 ],
 "metadata": {
  "kernelspec": {
   "display_name": "Python 3 (ipykernel)",
   "language": "python",
   "name": "python3"
  },
  "language_info": {
   "codemirror_mode": {
    "name": "ipython",
    "version": 3
   },
   "file_extension": ".py",
   "mimetype": "text/x-python",
   "name": "python",
   "nbconvert_exporter": "python",
   "pygments_lexer": "ipython3",
   "version": "3.10.9"
  }
 },
 "nbformat": 4,
 "nbformat_minor": 5
}
