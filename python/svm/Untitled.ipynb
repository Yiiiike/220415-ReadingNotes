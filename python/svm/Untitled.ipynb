{
 "cells": [
  {
   "cell_type": "code",
   "execution_count": 2,
   "id": "20ed4f85",
   "metadata": {},
   "outputs": [],
   "source": [
    "from sklearn import svm\n",
    "import numpy as np"
   ]
  },
  {
   "cell_type": "code",
   "execution_count": 4,
   "id": "1df97162",
   "metadata": {},
   "outputs": [],
   "source": [
    "path = 'D:\\03WORKSPACE\\github\\220415-ReadingNotes\\python\\svm\\iris\\iris.data'"
   ]
  },
  {
   "cell_type": "code",
   "execution_count": 5,
   "id": "b5fd6268",
   "metadata": {},
   "outputs": [
    {
     "ename": "NameError",
     "evalue": "name 'Iris_label' is not defined",
     "output_type": "error",
     "traceback": [
      "\u001b[1;31m---------------------------------------------------------------------------\u001b[0m",
      "\u001b[1;31mNameError\u001b[0m                                 Traceback (most recent call last)",
      "Cell \u001b[1;32mIn[5], line 1\u001b[0m\n\u001b[1;32m----> 1\u001b[0m data \u001b[38;5;241m=\u001b[39m np\u001b[38;5;241m.\u001b[39mloadtxt(path, dtype \u001b[38;5;241m=\u001b[39m \u001b[38;5;28mfloat\u001b[39m, delimiter \u001b[38;5;241m=\u001b[39m \u001b[38;5;124m'\u001b[39m\u001b[38;5;124m,\u001b[39m\u001b[38;5;124m'\u001b[39m, converters \u001b[38;5;241m=\u001b[39m {\u001b[38;5;241m4\u001b[39m:\u001b[43mIris_label\u001b[49m})\n",
      "\u001b[1;31mNameError\u001b[0m: name 'Iris_label' is not defined"
     ]
    }
   ],
   "source": [
    "data = np.loadtxt(path, dtype = float, delimiter = ',', converters = {4:Iris_label})"
   ]
  },
  {
   "cell_type": "code",
   "execution_count": null,
   "id": "6265828c",
   "metadata": {},
   "outputs": [],
   "source": []
  }
 ],
 "metadata": {
  "kernelspec": {
   "display_name": "Python 3 (ipykernel)",
   "language": "python",
   "name": "python3"
  },
  "language_info": {
   "codemirror_mode": {
    "name": "ipython",
    "version": 3
   },
   "file_extension": ".py",
   "mimetype": "text/x-python",
   "name": "python",
   "nbconvert_exporter": "python",
   "pygments_lexer": "ipython3",
   "version": "3.10.9"
  }
 },
 "nbformat": 4,
 "nbformat_minor": 5
}
